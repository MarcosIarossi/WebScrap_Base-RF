{
 "cells": [
  {
   "cell_type": "code",
   "execution_count": 1,
   "id": "5420e74e",
   "metadata": {},
   "outputs": [],
   "source": [
    "import requests\n",
    "import zipfile\n",
    "import os\n",
    "import shutil\n",
    "from io import BytesIO"
   ]
  },
  {
   "cell_type": "markdown",
   "id": "15a6cac7",
   "metadata": {},
   "source": [
    "# Donwload da lista de Socios"
   ]
  },
  {
   "cell_type": "markdown",
   "id": "a4d7dc43",
   "metadata": {},
   "source": [
    "### Socios 1"
   ]
  },
  {
   "cell_type": "code",
   "execution_count": 2,
   "id": "7a07dd04",
   "metadata": {},
   "outputs": [
    {
     "name": "stdout",
     "output_type": "stream",
     "text": [
      "Download, extração e renomeação concluídos com sucesso.\n"
     ]
    }
   ],
   "source": [
    "url = \"https://dadosabertos.rfb.gov.br/CNPJ/Socios1.zip\"\n",
    "dest_folder = r\"C:\\Users\\mcaceres\\OneDrive - Brookfield\\0. Brookfield - Data Analytics\\4. BD\\1. Input\\Receita Federal\"  # Pasta de destino para salvar o arquivo\n",
    "new_filename = \"socios1.csv\"\n",
    "\n",
    "# Verifica se o arquivo existe e o exclui, para fazer a atualização sempre que precisar.\n",
    "\n",
    "existing_file_path = os.path.join(dest_folder, new_filename)\n",
    "if os.path.isfile(existing_file_path):\n",
    "    os.remove(existing_file_path)\n",
    "\n",
    "# Realiza o download do arquivo\n",
    "response = requests.get(url)\n",
    "\n",
    "if response.status_code == 200:\n",
    "    # Extrai o conteúdo do arquivo ZIP\n",
    "    with zipfile.ZipFile(BytesIO(response.content), 'r') as zip_ref:\n",
    "        zip_ref.extractall(dest_folder)\n",
    "\n",
    "    # Encontra o primeiro arquivo CSV extraído e renomeia\n",
    "    extracted_files = os.listdir(dest_folder)\n",
    "    for file_name in extracted_files:\n",
    "        if file_name.endswith(\".SOCIOCSV\"):\n",
    "            old_path = os.path.join(dest_folder, file_name)\n",
    "            new_path = os.path.join(dest_folder, new_filename)\n",
    "            os.rename(old_path, new_path)\n",
    "            break  # Assume que há apenas um arquivo CSV para renomear\n",
    "\n",
    "    print(\"Download, extração e renomeação concluídos com sucesso.\")\n",
    "else:\n",
    "    print(f\"Erro ao baixar o arquivo. Código de status: {response.status_code}\")\n"
   ]
  },
  {
   "cell_type": "markdown",
   "id": "e30d63cf",
   "metadata": {},
   "source": [
    "### Socios 2"
   ]
  },
  {
   "cell_type": "code",
   "execution_count": 3,
   "id": "1efff940",
   "metadata": {},
   "outputs": [
    {
     "name": "stdout",
     "output_type": "stream",
     "text": [
      "Download, extração e renomeação concluídos com sucesso.\n"
     ]
    }
   ],
   "source": [
    "url = \"https://dadosabertos.rfb.gov.br/CNPJ/Socios2.zip\"\n",
    "dest_folder = r\"C:\\Users\\mcaceres\\OneDrive - Brookfield\\0. Brookfield - Data Analytics\\4. BD\\1. Input\\Receita Federal\"  # Pasta de destino para salvar o arquivo\n",
    "new_filename = \"socios2.csv\"\n",
    "\n",
    "# Verifica se o arquivo existe e o exclui\n",
    "existing_file_path = os.path.join(dest_folder, new_filename)\n",
    "if os.path.isfile(existing_file_path):\n",
    "    os.remove(existing_file_path)\n",
    "\n",
    "# Realiza o download do arquivo\n",
    "response = requests.get(url)\n",
    "\n",
    "if response.status_code == 200:\n",
    "    # Extrai o conteúdo do arquivo ZIP\n",
    "    with zipfile.ZipFile(BytesIO(response.content), 'r') as zip_ref:\n",
    "        zip_ref.extractall(dest_folder)\n",
    "\n",
    "    # Encontra o primeiro arquivo CSV extraído e renomeia\n",
    "    extracted_files = os.listdir(dest_folder)\n",
    "    for file_name in extracted_files:\n",
    "        if file_name.endswith(\".SOCIOCSV\"):\n",
    "            old_path = os.path.join(dest_folder, file_name)\n",
    "            new_path = os.path.join(dest_folder, new_filename)\n",
    "            os.rename(old_path, new_path)\n",
    "            break  # Assume que há apenas um arquivo CSV para renomear\n",
    "\n",
    "    print(\"Download, extração e renomeação concluídos com sucesso.\")\n",
    "else:\n",
    "    print(f\"Erro ao baixar o arquivo. Código de status: {response.status_code}\")\n"
   ]
  },
  {
   "cell_type": "markdown",
   "id": "994dd60a",
   "metadata": {},
   "source": [
    "### Socios 3"
   ]
  },
  {
   "cell_type": "code",
   "execution_count": 4,
   "id": "fbf3ad4e",
   "metadata": {},
   "outputs": [
    {
     "name": "stdout",
     "output_type": "stream",
     "text": [
      "Download, extração e renomeação concluídos com sucesso.\n"
     ]
    }
   ],
   "source": [
    "url = \"https://dadosabertos.rfb.gov.br/CNPJ/Socios3.zip\"\n",
    "dest_folder = r\"C:\\Users\\mcaceres\\OneDrive - Brookfield\\0. Brookfield - Data Analytics\\4. BD\\1. Input\\Receita Federal\"  # Pasta de destino para salvar o arquivo\n",
    "new_filename = \"socios3.csv\"\n",
    "\n",
    "# Verifica se o arquivo existe e o exclui\n",
    "existing_file_path = os.path.join(dest_folder, new_filename)\n",
    "if os.path.isfile(existing_file_path):\n",
    "    os.remove(existing_file_path)\n",
    "\n",
    "# Realiza o download do arquivo\n",
    "response = requests.get(url)\n",
    "\n",
    "if response.status_code == 200:\n",
    "    # Extrai o conteúdo do arquivo ZIP\n",
    "    with zipfile.ZipFile(BytesIO(response.content), 'r') as zip_ref:\n",
    "        zip_ref.extractall(dest_folder)\n",
    "\n",
    "    # Encontra o primeiro arquivo CSV extraído e renomeia\n",
    "    extracted_files = os.listdir(dest_folder)\n",
    "    for file_name in extracted_files:\n",
    "        if file_name.endswith(\".SOCIOCSV\"):\n",
    "            old_path = os.path.join(dest_folder, file_name)\n",
    "            new_path = os.path.join(dest_folder, new_filename)\n",
    "            os.rename(old_path, new_path)\n",
    "            break  # Assume que há apenas um arquivo CSV para renomear\n",
    "\n",
    "    print(\"Download, extração e renomeação concluídos com sucesso.\")\n",
    "else:\n",
    "    print(f\"Erro ao baixar o arquivo. Código de status: {response.status_code}\")"
   ]
  },
  {
   "cell_type": "markdown",
   "id": "176d89da",
   "metadata": {},
   "source": [
    "### Socios 4"
   ]
  },
  {
   "cell_type": "code",
   "execution_count": 5,
   "id": "bc4e8c41",
   "metadata": {},
   "outputs": [
    {
     "name": "stdout",
     "output_type": "stream",
     "text": [
      "Download, extração e renomeação concluídos com sucesso.\n"
     ]
    }
   ],
   "source": [
    "url = \"https://dadosabertos.rfb.gov.br/CNPJ/Socios4.zip\"\n",
    "dest_folder = r\"C:\\Users\\mcaceres\\OneDrive - Brookfield\\0. Brookfield - Data Analytics\\4. BD\\1. Input\\Receita Federal\"  # Pasta de destino para salvar o arquivo\n",
    "new_filename = \"socios4.csv\"\n",
    "\n",
    "# Verifica se o arquivo existe e o exclui\n",
    "existing_file_path = os.path.join(dest_folder, new_filename)\n",
    "if os.path.isfile(existing_file_path):\n",
    "    os.remove(existing_file_path)\n",
    "\n",
    "# Realiza o download do arquivo\n",
    "response = requests.get(url)\n",
    "\n",
    "if response.status_code == 200:\n",
    "    # Extrai o conteúdo do arquivo ZIP\n",
    "    with zipfile.ZipFile(BytesIO(response.content), 'r') as zip_ref:\n",
    "        zip_ref.extractall(dest_folder)\n",
    "\n",
    "    # Encontra o primeiro arquivo CSV extraído e renomeia\n",
    "    extracted_files = os.listdir(dest_folder)\n",
    "    for file_name in extracted_files:\n",
    "        if file_name.endswith(\".SOCIOCSV\"):\n",
    "            old_path = os.path.join(dest_folder, file_name)\n",
    "            new_path = os.path.join(dest_folder, new_filename)\n",
    "            os.rename(old_path, new_path)\n",
    "            break  # Assume que há apenas um arquivo CSV para renomear\n",
    "\n",
    "    print(\"Download, extração e renomeação concluídos com sucesso.\")\n",
    "else:\n",
    "    print(f\"Erro ao baixar o arquivo. Código de status: {response.status_code}\")"
   ]
  },
  {
   "cell_type": "markdown",
   "id": "0f6fedb4",
   "metadata": {},
   "source": [
    "### Socios 5"
   ]
  },
  {
   "cell_type": "code",
   "execution_count": 6,
   "id": "c43dfa6d",
   "metadata": {},
   "outputs": [
    {
     "name": "stdout",
     "output_type": "stream",
     "text": [
      "Download, extração e renomeação concluídos com sucesso.\n"
     ]
    }
   ],
   "source": [
    "url = \"https://dadosabertos.rfb.gov.br/CNPJ/Socios5.zip\"\n",
    "dest_folder = r\"C:\\Users\\mcaceres\\OneDrive - Brookfield\\0. Brookfield - Data Analytics\\4. BD\\1. Input\\Receita Federal\"  # Pasta de destino para salvar o arquivo\n",
    "new_filename = \"socios5.csv\"\n",
    "\n",
    "# Verifica se o arquivo existe e o exclui\n",
    "existing_file_path = os.path.join(dest_folder, new_filename)\n",
    "if os.path.isfile(existing_file_path):\n",
    "    os.remove(existing_file_path)\n",
    "\n",
    "# Realiza o download do arquivo\n",
    "response = requests.get(url)\n",
    "\n",
    "if response.status_code == 200:\n",
    "    # Extrai o conteúdo do arquivo ZIP\n",
    "    with zipfile.ZipFile(BytesIO(response.content), 'r') as zip_ref:\n",
    "        zip_ref.extractall(dest_folder)\n",
    "\n",
    "    # Encontra o primeiro arquivo CSV extraído e renomeia\n",
    "    extracted_files = os.listdir(dest_folder)\n",
    "    for file_name in extracted_files:\n",
    "        if file_name.endswith(\".SOCIOCSV\"):\n",
    "            old_path = os.path.join(dest_folder, file_name)\n",
    "            new_path = os.path.join(dest_folder, new_filename)\n",
    "            os.rename(old_path, new_path)\n",
    "            break  # Assume que há apenas um arquivo CSV para renomear\n",
    "\n",
    "    print(\"Download, extração e renomeação concluídos com sucesso.\")\n",
    "else:\n",
    "    print(f\"Erro ao baixar o arquivo. Código de status: {response.status_code}\")"
   ]
  },
  {
   "cell_type": "markdown",
   "id": "0463fdfe",
   "metadata": {},
   "source": [
    "### Socios 6"
   ]
  },
  {
   "cell_type": "code",
   "execution_count": 8,
   "id": "c0c06840",
   "metadata": {},
   "outputs": [
    {
     "name": "stdout",
     "output_type": "stream",
     "text": [
      "Download, extração e renomeação concluídos com sucesso.\n"
     ]
    }
   ],
   "source": [
    "url = \"https://dadosabertos.rfb.gov.br/CNPJ/Socios6.zip\"\n",
    "dest_folder = r\"C:\\Users\\mcaceres\\OneDrive - Brookfield\\0. Brookfield - Data Analytics\\4. BD\\1. Input\\Receita Federal\"  # Pasta de destino para salvar o arquivo\n",
    "new_filename = \"socios6.csv\"\n",
    "\n",
    "# Verifica se o arquivo existe e o exclui\n",
    "existing_file_path = os.path.join(dest_folder, new_filename)\n",
    "if os.path.isfile(existing_file_path):\n",
    "    os.remove(existing_file_path)\n",
    "\n",
    "# Realiza o download do arquivo\n",
    "response = requests.get(url)\n",
    "\n",
    "if response.status_code == 200:\n",
    "    # Extrai o conteúdo do arquivo ZIP\n",
    "    with zipfile.ZipFile(BytesIO(response.content), 'r') as zip_ref:\n",
    "        zip_ref.extractall(dest_folder)\n",
    "\n",
    "    # Encontra o primeiro arquivo CSV extraído e renomeia\n",
    "    extracted_files = os.listdir(dest_folder)\n",
    "    for file_name in extracted_files:\n",
    "        if file_name.endswith(\".SOCIOCSV\"):\n",
    "            old_path = os.path.join(dest_folder, file_name)\n",
    "            new_path = os.path.join(dest_folder, new_filename)\n",
    "            os.rename(old_path, new_path)\n",
    "            break  # Assume que há apenas um arquivo CSV para renomear\n",
    "\n",
    "    print(\"Download, extração e renomeação concluídos com sucesso.\")\n",
    "else:\n",
    "    print(f\"Erro ao baixar o arquivo. Código de status: {response.status_code}\")"
   ]
  },
  {
   "cell_type": "markdown",
   "id": "5e3c1813",
   "metadata": {},
   "source": [
    "### Socios 7"
   ]
  },
  {
   "cell_type": "code",
   "execution_count": 9,
   "id": "be7c8d03",
   "metadata": {},
   "outputs": [
    {
     "name": "stdout",
     "output_type": "stream",
     "text": [
      "Download, extração e renomeação concluídos com sucesso.\n"
     ]
    }
   ],
   "source": [
    "url = \"https://dadosabertos.rfb.gov.br/CNPJ/Socios7.zip\"\n",
    "dest_folder = r\"C:\\Users\\mcaceres\\OneDrive - Brookfield\\0. Brookfield - Data Analytics\\4. BD\\1. Input\\Receita Federal\"  # Pasta de destino para salvar o arquivo\n",
    "new_filename = \"socios7.csv\"\n",
    "\n",
    "# Verifica se o arquivo existe e o exclui\n",
    "existing_file_path = os.path.join(dest_folder, new_filename)\n",
    "if os.path.isfile(existing_file_path):\n",
    "    os.remove(existing_file_path)\n",
    "\n",
    "# Realiza o download do arquivo\n",
    "response = requests.get(url)\n",
    "\n",
    "if response.status_code == 200:\n",
    "    # Extrai o conteúdo do arquivo ZIP\n",
    "    with zipfile.ZipFile(BytesIO(response.content), 'r') as zip_ref:\n",
    "        zip_ref.extractall(dest_folder)\n",
    "\n",
    "    # Encontra o primeiro arquivo CSV extraído e renomeia\n",
    "    extracted_files = os.listdir(dest_folder)\n",
    "    for file_name in extracted_files:\n",
    "        if file_name.endswith(\".SOCIOCSV\"):\n",
    "            old_path = os.path.join(dest_folder, file_name)\n",
    "            new_path = os.path.join(dest_folder, new_filename)\n",
    "            os.rename(old_path, new_path)\n",
    "            break  # Assume que há apenas um arquivo CSV para renomear\n",
    "\n",
    "    print(\"Download, extração e renomeação concluídos com sucesso.\")\n",
    "else:\n",
    "    print(f\"Erro ao baixar o arquivo. Código de status: {response.status_code}\")"
   ]
  },
  {
   "cell_type": "markdown",
   "id": "7f18d8bc",
   "metadata": {},
   "source": [
    "### Socios 8"
   ]
  },
  {
   "cell_type": "code",
   "execution_count": 10,
   "id": "f6ee7bb6",
   "metadata": {},
   "outputs": [
    {
     "name": "stdout",
     "output_type": "stream",
     "text": [
      "Download, extração e renomeação concluídos com sucesso.\n"
     ]
    }
   ],
   "source": [
    "url = \"https://dadosabertos.rfb.gov.br/CNPJ/Socios8.zip\"\n",
    "dest_folder = r\"C:\\Users\\mcaceres\\OneDrive - Brookfield\\0. Brookfield - Data Analytics\\4. BD\\1. Input\\Receita Federal\"  # Pasta de destino para salvar o arquivo\n",
    "new_filename = \"socios8.csv\"\n",
    "\n",
    "# Verifica se o arquivo existe e o exclui\n",
    "existing_file_path = os.path.join(dest_folder, new_filename)\n",
    "if os.path.isfile(existing_file_path):\n",
    "    os.remove(existing_file_path)\n",
    "\n",
    "# Realiza o download do arquivo\n",
    "response = requests.get(url)\n",
    "\n",
    "if response.status_code == 200:\n",
    "    # Extrai o conteúdo do arquivo ZIP\n",
    "    with zipfile.ZipFile(BytesIO(response.content), 'r') as zip_ref:\n",
    "        zip_ref.extractall(dest_folder)\n",
    "\n",
    "    # Encontra o primeiro arquivo CSV extraído e renomeia\n",
    "    extracted_files = os.listdir(dest_folder)\n",
    "    for file_name in extracted_files:\n",
    "        if file_name.endswith(\".SOCIOCSV\"):\n",
    "            old_path = os.path.join(dest_folder, file_name)\n",
    "            new_path = os.path.join(dest_folder, new_filename)\n",
    "            os.rename(old_path, new_path)\n",
    "            break  # Assume que há apenas um arquivo CSV para renomear\n",
    "\n",
    "    print(\"Download, extração e renomeação concluídos com sucesso.\")\n",
    "else:\n",
    "    print(f\"Erro ao baixar o arquivo. Código de status: {response.status_code}\")"
   ]
  },
  {
   "cell_type": "markdown",
   "id": "a8c5ee76",
   "metadata": {},
   "source": [
    "### Socios 9"
   ]
  },
  {
   "cell_type": "code",
   "execution_count": 11,
   "id": "ec36fd19",
   "metadata": {},
   "outputs": [
    {
     "name": "stdout",
     "output_type": "stream",
     "text": [
      "Download, extração e renomeação concluídos com sucesso.\n"
     ]
    }
   ],
   "source": [
    "url = \"https://dadosabertos.rfb.gov.br/CNPJ/Socios9.zip\"\n",
    "dest_folder = r\"C:\\Users\\mcaceres\\OneDrive - Brookfield\\0. Brookfield - Data Analytics\\4. BD\\1. Input\\Receita Federal\"  # Pasta de destino para salvar o arquivo\n",
    "new_filename = \"socios9.csv\"\n",
    "\n",
    "# Verifica se o arquivo existe e o exclui\n",
    "existing_file_path = os.path.join(dest_folder, new_filename)\n",
    "if os.path.isfile(existing_file_path):\n",
    "    os.remove(existing_file_path)\n",
    "\n",
    "# Realiza o download do arquivo\n",
    "response = requests.get(url)\n",
    "\n",
    "if response.status_code == 200:\n",
    "    # Extrai o conteúdo do arquivo ZIP\n",
    "    with zipfile.ZipFile(BytesIO(response.content), 'r') as zip_ref:\n",
    "        zip_ref.extractall(dest_folder)\n",
    "\n",
    "    # Encontra o primeiro arquivo CSV extraído e renomeia\n",
    "    extracted_files = os.listdir(dest_folder)\n",
    "    for file_name in extracted_files:\n",
    "        if file_name.endswith(\".SOCIOCSV\"):\n",
    "            old_path = os.path.join(dest_folder, file_name)\n",
    "            new_path = os.path.join(dest_folder, new_filename)\n",
    "            os.rename(old_path, new_path)\n",
    "            break  # Assume que há apenas um arquivo CSV para renomear\n",
    "\n",
    "    print(\"Download, extração e renomeação concluídos com sucesso.\")\n",
    "else:\n",
    "    print(f\"Erro ao baixar o arquivo. Código de status: {response.status_code}\")"
   ]
  },
  {
   "cell_type": "markdown",
   "id": "4d01c9a8",
   "metadata": {},
   "source": [
    "### Socios 10"
   ]
  },
  {
   "cell_type": "code",
   "execution_count": 13,
   "id": "4c955853",
   "metadata": {},
   "outputs": [
    {
     "name": "stdout",
     "output_type": "stream",
     "text": [
      "Download, extração e renomeação concluídos com sucesso.\n"
     ]
    }
   ],
   "source": [
    "url = \"https://dadosabertos.rfb.gov.br/CNPJ/Socios0.zip\"\n",
    "dest_folder = r\"C:\\Users\\mcaceres\\OneDrive - Brookfield\\0. Brookfield - Data Analytics\\4. BD\\1. Input\\Receita Federal\"  # Pasta de destino para salvar o arquivo\n",
    "new_filename = \"socios0.csv\"\n",
    "\n",
    "# Verifica se o arquivo existe e o exclui\n",
    "existing_file_path = os.path.join(dest_folder, new_filename)\n",
    "if os.path.isfile(existing_file_path):\n",
    "    os.remove(existing_file_path)\n",
    "\n",
    "# Realiza o download do arquivo\n",
    "response = requests.get(url)\n",
    "\n",
    "if response.status_code == 200:\n",
    "    # Extrai o conteúdo do arquivo ZIP\n",
    "    with zipfile.ZipFile(BytesIO(response.content), 'r') as zip_ref:\n",
    "        zip_ref.extractall(dest_folder)\n",
    "\n",
    "    # Encontra o primeiro arquivo CSV extraído e renomeia\n",
    "    extracted_files = os.listdir(dest_folder)\n",
    "    for file_name in extracted_files:\n",
    "        if file_name.endswith(\".SOCIOCSV\"):\n",
    "            old_path = os.path.join(dest_folder, file_name)\n",
    "            new_path = os.path.join(dest_folder, new_filename)\n",
    "            os.rename(old_path, new_path)\n",
    "            break  # Assume que há apenas um arquivo CSV para renomear\n",
    "\n",
    "    print(\"Download, extração e renomeação concluídos com sucesso.\")\n",
    "else:\n",
    "    print(f\"Erro ao baixar o arquivo. Código de status: {response.status_code}\")"
   ]
  },
  {
   "cell_type": "markdown",
   "id": "3f87ca8f",
   "metadata": {},
   "source": [
    "# Download lista de Empresas"
   ]
  },
  {
   "cell_type": "markdown",
   "id": "0a2012b4",
   "metadata": {},
   "source": [
    "### Empresas 0"
   ]
  },
  {
   "cell_type": "code",
   "execution_count": 14,
   "id": "62bc75fe",
   "metadata": {},
   "outputs": [
    {
     "name": "stdout",
     "output_type": "stream",
     "text": [
      "Download, extração e renomeação concluídos com sucesso.\n"
     ]
    }
   ],
   "source": [
    "url = \"https://dadosabertos.rfb.gov.br/CNPJ/Empresas0.zip\"\n",
    "dest_folder = r\"C:\\Users\\mcaceres\\OneDrive - Brookfield\\0. Brookfield - Data Analytics\\4. BD\\1. Input\\Receita Federal\"  # Pasta de destino para salvar o arquivo\n",
    "new_filename = \"empresas0.csv\"\n",
    "\n",
    "# Verifica se o arquivo existe e o exclui\n",
    "existing_file_path = os.path.join(dest_folder, new_filename)\n",
    "if os.path.isfile(existing_file_path):\n",
    "    os.remove(existing_file_path)\n",
    "\n",
    "# Realiza o download do arquivo\n",
    "response = requests.get(url)\n",
    "\n",
    "if response.status_code == 200:\n",
    "    # Extrai o conteúdo do arquivo ZIP\n",
    "    with zipfile.ZipFile(BytesIO(response.content), 'r') as zip_ref:\n",
    "        zip_ref.extractall(dest_folder)\n",
    "\n",
    "    # Encontra o primeiro arquivo CSV extraído e renomeia\n",
    "    extracted_files = os.listdir(dest_folder)\n",
    "    for file_name in extracted_files:\n",
    "        if file_name.endswith(\".EMPRECSV\"):\n",
    "            old_path = os.path.join(dest_folder, file_name)\n",
    "            new_path = os.path.join(dest_folder, new_filename)\n",
    "            os.rename(old_path, new_path)\n",
    "            break  # Assume que há apenas um arquivo CSV para renomear\n",
    "\n",
    "    print(\"Download, extração e renomeação concluídos com sucesso.\")\n",
    "else:\n",
    "    print(f\"Erro ao baixar o arquivo. Código de status: {response.status_code}\")"
   ]
  },
  {
   "cell_type": "markdown",
   "id": "35f25864",
   "metadata": {},
   "source": [
    "### Empresas 1"
   ]
  },
  {
   "cell_type": "code",
   "execution_count": 15,
   "id": "6f18dcf1",
   "metadata": {},
   "outputs": [
    {
     "name": "stdout",
     "output_type": "stream",
     "text": [
      "Download, extração e renomeação concluídos com sucesso.\n"
     ]
    }
   ],
   "source": [
    "url = \"https://dadosabertos.rfb.gov.br/CNPJ/Empresas1.zip\"\n",
    "dest_folder = r\"C:\\Users\\mcaceres\\OneDrive - Brookfield\\0. Brookfield - Data Analytics\\4. BD\\1. Input\\Receita Federal\"  # Pasta de destino para salvar o arquivo\n",
    "new_filename = \"empresas1.csv\"\n",
    "\n",
    "# Verifica se o arquivo existe e o exclui\n",
    "existing_file_path = os.path.join(dest_folder, new_filename)\n",
    "if os.path.isfile(existing_file_path):\n",
    "    os.remove(existing_file_path)\n",
    "\n",
    "# Realiza o download do arquivo\n",
    "response = requests.get(url)\n",
    "\n",
    "if response.status_code == 200:\n",
    "    # Extrai o conteúdo do arquivo ZIP\n",
    "    with zipfile.ZipFile(BytesIO(response.content), 'r') as zip_ref:\n",
    "        zip_ref.extractall(dest_folder)\n",
    "\n",
    "    # Encontra o primeiro arquivo CSV extraído e renomeia\n",
    "    extracted_files = os.listdir(dest_folder)\n",
    "    for file_name in extracted_files:\n",
    "        if file_name.endswith(\".EMPRECSV\"):\n",
    "            old_path = os.path.join(dest_folder, file_name)\n",
    "            new_path = os.path.join(dest_folder, new_filename)\n",
    "            os.rename(old_path, new_path)\n",
    "            break  # Assume que há apenas um arquivo CSV para renomear\n",
    "\n",
    "    print(\"Download, extração e renomeação concluídos com sucesso.\")\n",
    "else:\n",
    "    print(f\"Erro ao baixar o arquivo. Código de status: {response.status_code}\")"
   ]
  },
  {
   "cell_type": "markdown",
   "id": "fb00265a",
   "metadata": {},
   "source": [
    "### Empresas 2"
   ]
  },
  {
   "cell_type": "code",
   "execution_count": 16,
   "id": "38dff78b",
   "metadata": {},
   "outputs": [
    {
     "name": "stdout",
     "output_type": "stream",
     "text": [
      "Download, extração e renomeação concluídos com sucesso.\n"
     ]
    }
   ],
   "source": [
    "url = \"https://dadosabertos.rfb.gov.br/CNPJ/Empresas2.zip\"\n",
    "dest_folder = r\"C:\\Users\\mcaceres\\OneDrive - Brookfield\\0. Brookfield - Data Analytics\\4. BD\\1. Input\\Receita Federal\"  # Pasta de destino para salvar o arquivo\n",
    "new_filename = \"empresas2.csv\"\n",
    "\n",
    "# Verifica se o arquivo existe e o exclui\n",
    "existing_file_path = os.path.join(dest_folder, new_filename)\n",
    "if os.path.isfile(existing_file_path):\n",
    "    os.remove(existing_file_path)\n",
    "\n",
    "# Realiza o download do arquivo\n",
    "response = requests.get(url)\n",
    "\n",
    "if response.status_code == 200:\n",
    "    # Extrai o conteúdo do arquivo ZIP\n",
    "    with zipfile.ZipFile(BytesIO(response.content), 'r') as zip_ref:\n",
    "        zip_ref.extractall(dest_folder)\n",
    "\n",
    "    # Encontra o primeiro arquivo CSV extraído e renomeia\n",
    "    extracted_files = os.listdir(dest_folder)\n",
    "    for file_name in extracted_files:\n",
    "        if file_name.endswith(\".EMPRECSV\"):\n",
    "            old_path = os.path.join(dest_folder, file_name)\n",
    "            new_path = os.path.join(dest_folder, new_filename)\n",
    "            os.rename(old_path, new_path)\n",
    "            break  # Assume que há apenas um arquivo CSV para renomear\n",
    "\n",
    "    print(\"Download, extração e renomeação concluídos com sucesso.\")\n",
    "else:\n",
    "    print(f\"Erro ao baixar o arquivo. Código de status: {response.status_code}\")"
   ]
  },
  {
   "cell_type": "markdown",
   "id": "0c0becd7",
   "metadata": {},
   "source": [
    "### Empresas 3"
   ]
  },
  {
   "cell_type": "code",
   "execution_count": 17,
   "id": "362ec59b",
   "metadata": {},
   "outputs": [
    {
     "name": "stdout",
     "output_type": "stream",
     "text": [
      "Download, extração e renomeação concluídos com sucesso.\n"
     ]
    }
   ],
   "source": [
    "url = \"https://dadosabertos.rfb.gov.br/CNPJ/Empresas3.zip\"\n",
    "dest_folder = r\"C:\\Users\\mcaceres\\OneDrive - Brookfield\\0. Brookfield - Data Analytics\\4. BD\\1. Input\\Receita Federal\"  # Pasta de destino para salvar o arquivo\n",
    "new_filename = \"empresas3.csv\"\n",
    "\n",
    "# Verifica se o arquivo existe e o exclui\n",
    "existing_file_path = os.path.join(dest_folder, new_filename)\n",
    "if os.path.isfile(existing_file_path):\n",
    "    os.remove(existing_file_path)\n",
    "\n",
    "# Realiza o download do arquivo\n",
    "response = requests.get(url)\n",
    "\n",
    "if response.status_code == 200:\n",
    "    # Extrai o conteúdo do arquivo ZIP\n",
    "    with zipfile.ZipFile(BytesIO(response.content), 'r') as zip_ref:\n",
    "        zip_ref.extractall(dest_folder)\n",
    "\n",
    "    # Encontra o primeiro arquivo CSV extraído e renomeia\n",
    "    extracted_files = os.listdir(dest_folder)\n",
    "    for file_name in extracted_files:\n",
    "        if file_name.endswith(\".EMPRECSV\"):\n",
    "            old_path = os.path.join(dest_folder, file_name)\n",
    "            new_path = os.path.join(dest_folder, new_filename)\n",
    "            os.rename(old_path, new_path)\n",
    "            break  # Assume que há apenas um arquivo CSV para renomear\n",
    "\n",
    "    print(\"Download, extração e renomeação concluídos com sucesso.\")\n",
    "else:\n",
    "    print(f\"Erro ao baixar o arquivo. Código de status: {response.status_code}\")"
   ]
  },
  {
   "cell_type": "markdown",
   "id": "0147aeb5",
   "metadata": {},
   "source": [
    "### Empresas 4"
   ]
  },
  {
   "cell_type": "code",
   "execution_count": null,
   "id": "f6f04b6a",
   "metadata": {},
   "outputs": [],
   "source": [
    "url = \"https://dadosabertos.rfb.gov.br/CNPJ/Empresas4.zip\"\n",
    "dest_folder = r\"C:\\Users\\mcaceres\\OneDrive - Brookfield\\0. Brookfield - Data Analytics\\4. BD\\1. Input\\Receita Federal\"  # Pasta de destino para salvar o arquivo\n",
    "new_filename = \"empresas4.csv\"\n",
    "\n",
    "# Verifica se o arquivo existe e o exclui\n",
    "existing_file_path = os.path.join(dest_folder, new_filename)\n",
    "if os.path.isfile(existing_file_path):\n",
    "    os.remove(existing_file_path)\n",
    "\n",
    "# Realiza o download do arquivo\n",
    "response = requests.get(url)\n",
    "\n",
    "if response.status_code == 200:\n",
    "    # Extrai o conteúdo do arquivo ZIP\n",
    "    with zipfile.ZipFile(BytesIO(response.content), 'r') as zip_ref:\n",
    "        zip_ref.extractall(dest_folder)\n",
    "\n",
    "    # Encontra o primeiro arquivo CSV extraído e renomeia\n",
    "    extracted_files = os.listdir(dest_folder)\n",
    "    for file_name in extracted_files:\n",
    "        if file_name.endswith(\".EMPRECSV\"):\n",
    "            old_path = os.path.join(dest_folder, file_name)\n",
    "            new_path = os.path.join(dest_folder, new_filename)\n",
    "            os.rename(old_path, new_path)\n",
    "            break  # Assume que há apenas um arquivo CSV para renomear\n",
    "\n",
    "    print(\"Download, extração e renomeação concluídos com sucesso.\")\n",
    "else:\n",
    "    print(f\"Erro ao baixar o arquivo. Código de status: {response.status_code}\")"
   ]
  },
  {
   "cell_type": "markdown",
   "id": "589fe893",
   "metadata": {},
   "source": [
    "### Empresas 5"
   ]
  },
  {
   "cell_type": "code",
   "execution_count": null,
   "id": "81c116dc",
   "metadata": {},
   "outputs": [],
   "source": [
    "url = \"https://dadosabertos.rfb.gov.br/CNPJ/Empresas5.zip\"\n",
    "dest_folder = r\"C:\\Users\\mcaceres\\OneDrive - Brookfield\\0. Brookfield - Data Analytics\\4. BD\\1. Input\\Receita Federal\"  # Pasta de destino para salvar o arquivo\n",
    "new_filename = \"empresas5.csv\"\n",
    "\n",
    "# Verifica se o arquivo existe e o exclui\n",
    "existing_file_path = os.path.join(dest_folder, new_filename)\n",
    "if os.path.isfile(existing_file_path):\n",
    "    os.remove(existing_file_path)\n",
    "\n",
    "# Realiza o download do arquivo\n",
    "response = requests.get(url)\n",
    "\n",
    "if response.status_code == 200:\n",
    "    # Extrai o conteúdo do arquivo ZIP\n",
    "    with zipfile.ZipFile(BytesIO(response.content), 'r') as zip_ref:\n",
    "        zip_ref.extractall(dest_folder)\n",
    "\n",
    "    # Encontra o primeiro arquivo CSV extraído e renomeia\n",
    "    extracted_files = os.listdir(dest_folder)\n",
    "    for file_name in extracted_files:\n",
    "        if file_name.endswith(\".EMPRECSV\"):\n",
    "            old_path = os.path.join(dest_folder, file_name)\n",
    "            new_path = os.path.join(dest_folder, new_filename)\n",
    "            os.rename(old_path, new_path)\n",
    "            break  # Assume que há apenas um arquivo CSV para renomear\n",
    "\n",
    "    print(\"Download, extração e renomeação concluídos com sucesso.\")\n",
    "else:\n",
    "    print(f\"Erro ao baixar o arquivo. Código de status: {response.status_code}\")"
   ]
  },
  {
   "cell_type": "markdown",
   "id": "29dba062",
   "metadata": {},
   "source": [
    "### Empresas 6"
   ]
  },
  {
   "cell_type": "code",
   "execution_count": null,
   "id": "ff04e0a4",
   "metadata": {},
   "outputs": [],
   "source": [
    "url = \"https://dadosabertos.rfb.gov.br/CNPJ/Empresas6.zip\"\n",
    "dest_folder = r\"C:\\Users\\mcaceres\\OneDrive - Brookfield\\0. Brookfield - Data Analytics\\4. BD\\1. Input\\Receita Federal\"  # Pasta de destino para salvar o arquivo\n",
    "new_filename = \"empresas6.csv\"\n",
    "\n",
    "# Verifica se o arquivo existe e o exclui\n",
    "existing_file_path = os.path.join(dest_folder, new_filename)\n",
    "if os.path.isfile(existing_file_path):\n",
    "    os.remove(existing_file_path)\n",
    "\n",
    "# Realiza o download do arquivo\n",
    "response = requests.get(url)\n",
    "\n",
    "if response.status_code == 200:\n",
    "    # Extrai o conteúdo do arquivo ZIP\n",
    "    with zipfile.ZipFile(BytesIO(response.content), 'r') as zip_ref:\n",
    "        zip_ref.extractall(dest_folder)\n",
    "\n",
    "    # Encontra o primeiro arquivo CSV extraído e renomeia\n",
    "    extracted_files = os.listdir(dest_folder)\n",
    "    for file_name in extracted_files:\n",
    "        if file_name.endswith(\".EMPRECSV\"):\n",
    "            old_path = os.path.join(dest_folder, file_name)\n",
    "            new_path = os.path.join(dest_folder, new_filename)\n",
    "            os.rename(old_path, new_path)\n",
    "            break  # Assume que há apenas um arquivo CSV para renomear\n",
    "\n",
    "    print(\"Download, extração e renomeação concluídos com sucesso.\")\n",
    "else:\n",
    "    print(f\"Erro ao baixar o arquivo. Código de status: {response.status_code}\")"
   ]
  },
  {
   "cell_type": "markdown",
   "id": "ad6969ee",
   "metadata": {},
   "source": [
    "### Empresas 7"
   ]
  },
  {
   "cell_type": "code",
   "execution_count": null,
   "id": "07159128",
   "metadata": {},
   "outputs": [],
   "source": [
    "url = \"https://dadosabertos.rfb.gov.br/CNPJ/Empresas7.zip\"\n",
    "dest_folder = r\"C:\\Users\\mcaceres\\OneDrive - Brookfield\\0. Brookfield - Data Analytics\\4. BD\\1. Input\\Receita Federal\"  # Pasta de destino para salvar o arquivo\n",
    "new_filename = \"empresas7.csv\"\n",
    "\n",
    "# Verifica se o arquivo existe e o exclui\n",
    "existing_file_path = os.path.join(dest_folder, new_filename)\n",
    "if os.path.isfile(existing_file_path):\n",
    "    os.remove(existing_file_path)\n",
    "\n",
    "# Realiza o download do arquivo\n",
    "response = requests.get(url)\n",
    "\n",
    "if response.status_code == 200:\n",
    "    # Extrai o conteúdo do arquivo ZIP\n",
    "    with zipfile.ZipFile(BytesIO(response.content), 'r') as zip_ref:\n",
    "        zip_ref.extractall(dest_folder)\n",
    "\n",
    "    # Encontra o primeiro arquivo CSV extraído e renomeia\n",
    "    extracted_files = os.listdir(dest_folder)\n",
    "    for file_name in extracted_files:\n",
    "        if file_name.endswith(\".EMPRECSV\"):\n",
    "            old_path = os.path.join(dest_folder, file_name)\n",
    "            new_path = os.path.join(dest_folder, new_filename)\n",
    "            os.rename(old_path, new_path)\n",
    "            break  # Assume que há apenas um arquivo CSV para renomear\n",
    "\n",
    "    print(\"Download, extração e renomeação concluídos com sucesso.\")\n",
    "else:\n",
    "    print(f\"Erro ao baixar o arquivo. Código de status: {response.status_code}\")"
   ]
  },
  {
   "cell_type": "markdown",
   "id": "9373c407",
   "metadata": {},
   "source": [
    "### Empresas 8"
   ]
  },
  {
   "cell_type": "code",
   "execution_count": null,
   "id": "9e9c381b",
   "metadata": {},
   "outputs": [],
   "source": [
    "url = \"https://dadosabertos.rfb.gov.br/CNPJ/Empresas8.zip\"\n",
    "dest_folder = r\"C:\\Users\\mcaceres\\OneDrive - Brookfield\\0. Brookfield - Data Analytics\\4. BD\\1. Input\\Receita Federal\"  # Pasta de destino para salvar o arquivo\n",
    "new_filename = \"empresas8.csv\"\n",
    "\n",
    "# Verifica se o arquivo existe e o exclui\n",
    "existing_file_path = os.path.join(dest_folder, new_filename)\n",
    "if os.path.isfile(existing_file_path):\n",
    "    os.remove(existing_file_path)\n",
    "\n",
    "# Realiza o download do arquivo\n",
    "response = requests.get(url)\n",
    "\n",
    "if response.status_code == 200:\n",
    "    # Extrai o conteúdo do arquivo ZIP\n",
    "    with zipfile.ZipFile(BytesIO(response.content), 'r') as zip_ref:\n",
    "        zip_ref.extractall(dest_folder)\n",
    "\n",
    "    # Encontra o primeiro arquivo CSV extraído e renomeia\n",
    "    extracted_files = os.listdir(dest_folder)\n",
    "    for file_name in extracted_files:\n",
    "        if file_name.endswith(\".EMPRECSV\"):\n",
    "            old_path = os.path.join(dest_folder, file_name)\n",
    "            new_path = os.path.join(dest_folder, new_filename)\n",
    "            os.rename(old_path, new_path)\n",
    "            break  # Assume que há apenas um arquivo CSV para renomear\n",
    "\n",
    "    print(\"Download, extração e renomeação concluídos com sucesso.\")\n",
    "else:\n",
    "    print(f\"Erro ao baixar o arquivo. Código de status: {response.status_code}\")"
   ]
  },
  {
   "cell_type": "markdown",
   "id": "5f45ccef",
   "metadata": {},
   "source": [
    "### Empresas 9"
   ]
  },
  {
   "cell_type": "code",
   "execution_count": null,
   "id": "250a257b",
   "metadata": {},
   "outputs": [],
   "source": [
    "url = \"https://dadosabertos.rfb.gov.br/CNPJ/Empresas9.zip\"\n",
    "dest_folder = r\"C:\\Users\\mcaceres\\OneDrive - Brookfield\\0. Brookfield - Data Analytics\\4. BD\\1. Input\\Receita Federal\"  # Pasta de destino para salvar o arquivo\n",
    "new_filename = \"empresas9.csv\"\n",
    "\n",
    "# Verifica se o arquivo existe e o exclui\n",
    "existing_file_path = os.path.join(dest_folder, new_filename)\n",
    "if os.path.isfile(existing_file_path):\n",
    "    os.remove(existing_file_path)\n",
    "\n",
    "# Realiza o download do arquivo\n",
    "response = requests.get(url)\n",
    "\n",
    "if response.status_code == 200:\n",
    "    # Extrai o conteúdo do arquivo ZIP\n",
    "    with zipfile.ZipFile(BytesIO(response.content), 'r') as zip_ref:\n",
    "        zip_ref.extractall(dest_folder)\n",
    "\n",
    "    # Encontra o primeiro arquivo CSV extraído e renomeia\n",
    "    extracted_files = os.listdir(dest_folder)\n",
    "    for file_name in extracted_files:\n",
    "        if file_name.endswith(\".EMPRECSV\"):\n",
    "            old_path = os.path.join(dest_folder, file_name)\n",
    "            new_path = os.path.join(dest_folder, new_filename)\n",
    "            os.rename(old_path, new_path)\n",
    "            break  # Assume que há apenas um arquivo CSV para renomear\n",
    "\n",
    "    print(\"Download, extração e renomeação concluídos com sucesso.\")\n",
    "else:\n",
    "    print(f\"Erro ao baixar o arquivo. Código de status: {response.status_code}\")"
   ]
  },
  {
   "cell_type": "markdown",
   "id": "ef202171",
   "metadata": {},
   "source": [
    "# Download de Estabelecimentos"
   ]
  },
  {
   "cell_type": "markdown",
   "id": "a64a18d9",
   "metadata": {},
   "source": [
    "### Estabelecimentos 0"
   ]
  },
  {
   "cell_type": "code",
   "execution_count": null,
   "id": "bbc9dab5",
   "metadata": {},
   "outputs": [],
   "source": [
    "url = \"https://dadosabertos.rfb.gov.br/CNPJ/Estabelecimentos0.zip\"\n",
    "dest_folder = r\"C:\\Users\\mcaceres\\OneDrive - Brookfield\\0. Brookfield - Data Analytics\\4. BD\\1. Input\\Receita Federal\"  # Pasta de destino para salvar o arquivo\n",
    "new_filename = \"estabelecimentos0.csv\"\n",
    "\n",
    "# Verifica se o arquivo existe e o exclui\n",
    "existing_file_path = os.path.join(dest_folder, new_filename)\n",
    "if os.path.isfile(existing_file_path):\n",
    "    os.remove(existing_file_path)\n",
    "\n",
    "# Realiza o download do arquivo\n",
    "response = requests.get(url)\n",
    "\n",
    "if response.status_code == 200:\n",
    "    # Extrai o conteúdo do arquivo ZIP\n",
    "    with zipfile.ZipFile(BytesIO(response.content), 'r') as zip_ref:\n",
    "        zip_ref.extractall(dest_folder)\n",
    "\n",
    "    # Encontra o primeiro arquivo CSV extraído e renomeia\n",
    "    extracted_files = os.listdir(dest_folder)\n",
    "    for file_name in extracted_files:\n",
    "        if file_name.endswith(\".ESTABELE\"):\n",
    "            old_path = os.path.join(dest_folder, file_name)\n",
    "            new_path = os.path.join(dest_folder, new_filename)\n",
    "            os.rename(old_path, new_path)\n",
    "            break  # Assume que há apenas um arquivo CSV para renomear\n",
    "\n",
    "    print(\"Download, extração e renomeação concluídos com sucesso.\")\n",
    "else:\n",
    "    print(f\"Erro ao baixar o arquivo. Código de status: {response.status_code}\")"
   ]
  },
  {
   "cell_type": "markdown",
   "id": "6a00a7a7",
   "metadata": {},
   "source": [
    "### Estabelecimentos 1"
   ]
  },
  {
   "cell_type": "code",
   "execution_count": null,
   "id": "0a9797b0",
   "metadata": {},
   "outputs": [],
   "source": [
    "url = \"https://dadosabertos.rfb.gov.br/CNPJ/Estabelecimentos1.zip\"\n",
    "dest_folder = r\"C:\\Users\\mcaceres\\OneDrive - Brookfield\\0. Brookfield - Data Analytics\\4. BD\\1. Input\\Receita Federal\"  # Pasta de destino para salvar o arquivo\n",
    "new_filename = \"estabelecimentos1.csv\"\n",
    "\n",
    "# Verifica se o arquivo existe e o exclui\n",
    "existing_file_path = os.path.join(dest_folder, new_filename)\n",
    "if os.path.isfile(existing_file_path):\n",
    "    os.remove(existing_file_path)\n",
    "\n",
    "# Realiza o download do arquivo\n",
    "response = requests.get(url)\n",
    "\n",
    "if response.status_code == 200:\n",
    "    # Extrai o conteúdo do arquivo ZIP\n",
    "    with zipfile.ZipFile(BytesIO(response.content), 'r') as zip_ref:\n",
    "        zip_ref.extractall(dest_folder)\n",
    "\n",
    "    # Encontra o primeiro arquivo CSV extraído e renomeia\n",
    "    extracted_files = os.listdir(dest_folder)\n",
    "    for file_name in extracted_files:\n",
    "        if file_name.endswith(\".ESTABELE\"):\n",
    "            old_path = os.path.join(dest_folder, file_name)\n",
    "            new_path = os.path.join(dest_folder, new_filename)\n",
    "            os.rename(old_path, new_path)\n",
    "            break  # Assume que há apenas um arquivo CSV para renomear\n",
    "\n",
    "    print(\"Download, extração e renomeação concluídos com sucesso.\")\n",
    "else:\n",
    "    print(f\"Erro ao baixar o arquivo. Código de status: {response.status_code}\")"
   ]
  },
  {
   "cell_type": "markdown",
   "id": "ecd4169e",
   "metadata": {},
   "source": [
    "### Estabelecimentos 2"
   ]
  },
  {
   "cell_type": "code",
   "execution_count": null,
   "id": "9f0b88f0",
   "metadata": {},
   "outputs": [],
   "source": [
    "url = \"https://dadosabertos.rfb.gov.br/CNPJ/Estabelecimentos2.zip\"\n",
    "dest_folder = r\"C:\\Users\\mcaceres\\OneDrive - Brookfield\\0. Brookfield - Data Analytics\\4. BD\\1. Input\\Receita Federal\"  # Pasta de destino para salvar o arquivo\n",
    "new_filename = \"estabelecimentos2.csv\"\n",
    "\n",
    "# Verifica se o arquivo existe e o exclui\n",
    "existing_file_path = os.path.join(dest_folder, new_filename)\n",
    "if os.path.isfile(existing_file_path):\n",
    "    os.remove(existing_file_path)\n",
    "\n",
    "# Realiza o download do arquivo\n",
    "response = requests.get(url)\n",
    "\n",
    "if response.status_code == 200:\n",
    "    # Extrai o conteúdo do arquivo ZIP\n",
    "    with zipfile.ZipFile(BytesIO(response.content), 'r') as zip_ref:\n",
    "        zip_ref.extractall(dest_folder)\n",
    "\n",
    "    # Encontra o primeiro arquivo CSV extraído e renomeia\n",
    "    extracted_files = os.listdir(dest_folder)\n",
    "    for file_name in extracted_files:\n",
    "        if file_name.endswith(\".ESTABELE\"):\n",
    "            old_path = os.path.join(dest_folder, file_name)\n",
    "            new_path = os.path.join(dest_folder, new_filename)\n",
    "            os.rename(old_path, new_path)\n",
    "            break  # Assume que há apenas um arquivo CSV para renomear\n",
    "\n",
    "    print(\"Download, extração e renomeação concluídos com sucesso.\")\n",
    "else:\n",
    "    print(f\"Erro ao baixar o arquivo. Código de status: {response.status_code}\")"
   ]
  },
  {
   "cell_type": "markdown",
   "id": "cf25acfd",
   "metadata": {},
   "source": [
    "### Estabelecimentos 3"
   ]
  },
  {
   "cell_type": "code",
   "execution_count": null,
   "id": "acf3a14f",
   "metadata": {},
   "outputs": [],
   "source": [
    "url = \"https://dadosabertos.rfb.gov.br/CNPJ/Estabelecimentos3.zip\"\n",
    "dest_folder = r\"C:\\Users\\mcaceres\\OneDrive - Brookfield\\0. Brookfield - Data Analytics\\4. BD\\1. Input\\Receita Federal\"  # Pasta de destino para salvar o arquivo\n",
    "new_filename = \"estabelecimentos3.csv\"\n",
    "\n",
    "# Verifica se o arquivo existe e o exclui\n",
    "existing_file_path = os.path.join(dest_folder, new_filename)\n",
    "if os.path.isfile(existing_file_path):\n",
    "    os.remove(existing_file_path)\n",
    "\n",
    "# Realiza o download do arquivo\n",
    "response = requests.get(url)\n",
    "\n",
    "if response.status_code == 200:\n",
    "    # Extrai o conteúdo do arquivo ZIP\n",
    "    with zipfile.ZipFile(BytesIO(response.content), 'r') as zip_ref:\n",
    "        zip_ref.extractall(dest_folder)\n",
    "\n",
    "    # Encontra o primeiro arquivo CSV extraído e renomeia\n",
    "    extracted_files = os.listdir(dest_folder)\n",
    "    for file_name in extracted_files:\n",
    "        if file_name.endswith(\".ESTABELE\"):\n",
    "            old_path = os.path.join(dest_folder, file_name)\n",
    "            new_path = os.path.join(dest_folder, new_filename)\n",
    "            os.rename(old_path, new_path)\n",
    "            break  # Assume que há apenas um arquivo CSV para renomear\n",
    "\n",
    "    print(\"Download, extração e renomeação concluídos com sucesso.\")\n",
    "else:\n",
    "    print(f\"Erro ao baixar o arquivo. Código de status: {response.status_code}\")"
   ]
  },
  {
   "cell_type": "markdown",
   "id": "07dee641",
   "metadata": {},
   "source": [
    "### Estabelecimentos 4"
   ]
  },
  {
   "cell_type": "code",
   "execution_count": null,
   "id": "2e5cf41c",
   "metadata": {},
   "outputs": [],
   "source": [
    "url = \"https://dadosabertos.rfb.gov.br/CNPJ/Estabelecimentos4.zip\"\n",
    "dest_folder = r\"C:\\Users\\mcaceres\\OneDrive - Brookfield\\0. Brookfield - Data Analytics\\4. BD\\1. Input\\Receita Federal\"  # Pasta de destino para salvar o arquivo\n",
    "new_filename = \"estabelecimentos4.csv\"\n",
    "\n",
    "# Verifica se o arquivo existe e o exclui\n",
    "existing_file_path = os.path.join(dest_folder, new_filename)\n",
    "if os.path.isfile(existing_file_path):\n",
    "    os.remove(existing_file_path)\n",
    "\n",
    "# Realiza o download do arquivo\n",
    "response = requests.get(url)\n",
    "\n",
    "if response.status_code == 200:\n",
    "    # Extrai o conteúdo do arquivo ZIP\n",
    "    with zipfile.ZipFile(BytesIO(response.content), 'r') as zip_ref:\n",
    "        zip_ref.extractall(dest_folder)\n",
    "\n",
    "    # Encontra o primeiro arquivo CSV extraído e renomeia\n",
    "    extracted_files = os.listdir(dest_folder)\n",
    "    for file_name in extracted_files:\n",
    "        if file_name.endswith(\".ESTABELE\"):\n",
    "            old_path = os.path.join(dest_folder, file_name)\n",
    "            new_path = os.path.join(dest_folder, new_filename)\n",
    "            os.rename(old_path, new_path)\n",
    "            break  # Assume que há apenas um arquivo CSV para renomear\n",
    "\n",
    "    print(\"Download, extração e renomeação concluídos com sucesso.\")\n",
    "else:\n",
    "    print(f\"Erro ao baixar o arquivo. Código de status: {response.status_code}\")"
   ]
  },
  {
   "cell_type": "markdown",
   "id": "f884ffaa",
   "metadata": {},
   "source": [
    "### Estabelecimentos 5"
   ]
  },
  {
   "cell_type": "code",
   "execution_count": null,
   "id": "b8b5b8cf",
   "metadata": {},
   "outputs": [],
   "source": [
    "url = \"https://dadosabertos.rfb.gov.br/CNPJ/Estabelecimentos5.zip\"\n",
    "dest_folder = r\"C:\\Users\\mcaceres\\OneDrive - Brookfield\\0. Brookfield - Data Analytics\\4. BD\\1. Input\\Receita Federal\"  # Pasta de destino para salvar o arquivo\n",
    "new_filename = \"estabelecimentos5.csv\"\n",
    "\n",
    "# Verifica se o arquivo existe e o exclui\n",
    "existing_file_path = os.path.join(dest_folder, new_filename)\n",
    "if os.path.isfile(existing_file_path):\n",
    "    os.remove(existing_file_path)\n",
    "\n",
    "# Realiza o download do arquivo\n",
    "response = requests.get(url)\n",
    "\n",
    "if response.status_code == 200:\n",
    "    # Extrai o conteúdo do arquivo ZIP\n",
    "    with zipfile.ZipFile(BytesIO(response.content), 'r') as zip_ref:\n",
    "        zip_ref.extractall(dest_folder)\n",
    "\n",
    "    # Encontra o primeiro arquivo CSV extraído e renomeia\n",
    "    extracted_files = os.listdir(dest_folder)\n",
    "    for file_name in extracted_files:\n",
    "        if file_name.endswith(\".ESTABELE\"):\n",
    "            old_path = os.path.join(dest_folder, file_name)\n",
    "            new_path = os.path.join(dest_folder, new_filename)\n",
    "            os.rename(old_path, new_path)\n",
    "            break  # Assume que há apenas um arquivo CSV para renomear\n",
    "\n",
    "    print(\"Download, extração e renomeação concluídos com sucesso.\")\n",
    "else:\n",
    "    print(f\"Erro ao baixar o arquivo. Código de status: {response.status_code}\")"
   ]
  },
  {
   "cell_type": "markdown",
   "id": "ff12e66b",
   "metadata": {},
   "source": [
    "### Estabelecimentos 6"
   ]
  },
  {
   "cell_type": "code",
   "execution_count": null,
   "id": "7b817eb5",
   "metadata": {},
   "outputs": [],
   "source": [
    "url = \"https://dadosabertos.rfb.gov.br/CNPJ/Estabelecimentos6.zip\"\n",
    "dest_folder = r\"C:\\Users\\mcaceres\\OneDrive - Brookfield\\0. Brookfield - Data Analytics\\4. BD\\1. Input\\Receita Federal\"  # Pasta de destino para salvar o arquivo\n",
    "new_filename = \"estabelecimentos6.csv\"\n",
    "\n",
    "# Verifica se o arquivo existe e o exclui\n",
    "existing_file_path = os.path.join(dest_folder, new_filename)\n",
    "if os.path.isfile(existing_file_path):\n",
    "    os.remove(existing_file_path)\n",
    "\n",
    "# Realiza o download do arquivo\n",
    "response = requests.get(url)\n",
    "\n",
    "if response.status_code == 200:\n",
    "    # Extrai o conteúdo do arquivo ZIP\n",
    "    with zipfile.ZipFile(BytesIO(response.content), 'r') as zip_ref:\n",
    "        zip_ref.extractall(dest_folder)\n",
    "\n",
    "    # Encontra o primeiro arquivo CSV extraído e renomeia\n",
    "    extracted_files = os.listdir(dest_folder)\n",
    "    for file_name in extracted_files:\n",
    "        if file_name.endswith(\".ESTABELE\"):\n",
    "            old_path = os.path.join(dest_folder, file_name)\n",
    "            new_path = os.path.join(dest_folder, new_filename)\n",
    "            os.rename(old_path, new_path)\n",
    "            break  # Assume que há apenas um arquivo CSV para renomear\n",
    "\n",
    "    print(\"Download, extração e renomeação concluídos com sucesso.\")\n",
    "else:\n",
    "    print(f\"Erro ao baixar o arquivo. Código de status: {response.status_code}\")"
   ]
  },
  {
   "cell_type": "markdown",
   "id": "2b58b03e",
   "metadata": {},
   "source": [
    "### Estabelecimentos 7"
   ]
  },
  {
   "cell_type": "code",
   "execution_count": null,
   "id": "76b4f801",
   "metadata": {},
   "outputs": [],
   "source": [
    "url = \"https://dadosabertos.rfb.gov.br/CNPJ/Estabelecimentos7.zip\"\n",
    "dest_folder = r\"C:\\Users\\mcaceres\\OneDrive - Brookfield\\0. Brookfield - Data Analytics\\4. BD\\1. Input\\Receita Federal\"  # Pasta de destino para salvar o arquivo\n",
    "new_filename = \"estabelecimentos7.csv\"\n",
    "\n",
    "# Verifica se o arquivo existe e o exclui\n",
    "existing_file_path = os.path.join(dest_folder, new_filename)\n",
    "if os.path.isfile(existing_file_path):\n",
    "    os.remove(existing_file_path)\n",
    "\n",
    "# Realiza o download do arquivo\n",
    "response = requests.get(url)\n",
    "\n",
    "if response.status_code == 200:\n",
    "    # Extrai o conteúdo do arquivo ZIP\n",
    "    with zipfile.ZipFile(BytesIO(response.content), 'r') as zip_ref:\n",
    "        zip_ref.extractall(dest_folder)\n",
    "\n",
    "    # Encontra o primeiro arquivo CSV extraído e renomeia\n",
    "    extracted_files = os.listdir(dest_folder)\n",
    "    for file_name in extracted_files:\n",
    "        if file_name.endswith(\".ESTABELE\"):\n",
    "            old_path = os.path.join(dest_folder, file_name)\n",
    "            new_path = os.path.join(dest_folder, new_filename)\n",
    "            os.rename(old_path, new_path)\n",
    "            break  # Assume que há apenas um arquivo CSV para renomear\n",
    "\n",
    "    print(\"Download, extração e renomeação concluídos com sucesso.\")\n",
    "else:\n",
    "    print(f\"Erro ao baixar o arquivo. Código de status: {response.status_code}\")"
   ]
  },
  {
   "cell_type": "markdown",
   "id": "d0517729",
   "metadata": {},
   "source": [
    "### Estabelecimentos 8"
   ]
  },
  {
   "cell_type": "code",
   "execution_count": null,
   "id": "97b8e940",
   "metadata": {},
   "outputs": [],
   "source": [
    "url = \"https://dadosabertos.rfb.gov.br/CNPJ/Estabelecimentos8.zip\"\n",
    "dest_folder = r\"C:\\Users\\mcaceres\\OneDrive - Brookfield\\0. Brookfield - Data Analytics\\4. BD\\1. Input\\Receita Federal\"  # Pasta de destino para salvar o arquivo\n",
    "new_filename = \"estabelecimentos8.csv\"\n",
    "\n",
    "# Verifica se o arquivo existe e o exclui\n",
    "existing_file_path = os.path.join(dest_folder, new_filename)\n",
    "if os.path.isfile(existing_file_path):\n",
    "    os.remove(existing_file_path)\n",
    "\n",
    "# Realiza o download do arquivo\n",
    "response = requests.get(url)\n",
    "\n",
    "if response.status_code == 200:\n",
    "    # Extrai o conteúdo do arquivo ZIP\n",
    "    with zipfile.ZipFile(BytesIO(response.content), 'r') as zip_ref:\n",
    "        zip_ref.extractall(dest_folder)\n",
    "\n",
    "    # Encontra o primeiro arquivo CSV extraído e renomeia\n",
    "    extracted_files = os.listdir(dest_folder)\n",
    "    for file_name in extracted_files:\n",
    "        if file_name.endswith(\".ESTABELE\"):\n",
    "            old_path = os.path.join(dest_folder, file_name)\n",
    "            new_path = os.path.join(dest_folder, new_filename)\n",
    "            os.rename(old_path, new_path)\n",
    "            break  # Assume que há apenas um arquivo CSV para renomear\n",
    "\n",
    "    print(\"Download, extração e renomeação concluídos com sucesso.\")\n",
    "else:\n",
    "    print(f\"Erro ao baixar o arquivo. Código de status: {response.status_code}\")"
   ]
  },
  {
   "cell_type": "markdown",
   "id": "00576e99",
   "metadata": {},
   "source": [
    "### Estabelecimentos 9"
   ]
  },
  {
   "cell_type": "code",
   "execution_count": null,
   "id": "dee0a7cb",
   "metadata": {},
   "outputs": [],
   "source": [
    "url = \"https://dadosabertos.rfb.gov.br/CNPJ/Estabelecimentos9.zip\"\n",
    "dest_folder = r\"C:\\Users\\mcaceres\\OneDrive - Brookfield\\0. Brookfield - Data Analytics\\4. BD\\1. Input\\Receita Federal\"  # Pasta de destino para salvar o arquivo\n",
    "new_filename = \"estabelecimentos9.csv\"\n",
    "\n",
    "# Verifica se o arquivo existe e o exclui\n",
    "existing_file_path = os.path.join(dest_folder, new_filename)\n",
    "if os.path.isfile(existing_file_path):\n",
    "    os.remove(existing_file_path)\n",
    "\n",
    "# Realiza o download do arquivo\n",
    "response = requests.get(url)\n",
    "\n",
    "if response.status_code == 200:\n",
    "    # Extrai o conteúdo do arquivo ZIP\n",
    "    with zipfile.ZipFile(BytesIO(response.content), 'r') as zip_ref:\n",
    "        zip_ref.extractall(dest_folder)\n",
    "\n",
    "    # Encontra o primeiro arquivo CSV extraído e renomeia\n",
    "    extracted_files = os.listdir(dest_folder)\n",
    "    for file_name in extracted_files:\n",
    "        if file_name.endswith(\".ESTABELE\"):\n",
    "            old_path = os.path.join(dest_folder, file_name)\n",
    "            new_path = os.path.join(dest_folder, new_filename)\n",
    "            os.rename(old_path, new_path)\n",
    "            break  # Assume que há apenas um arquivo CSV para renomear\n",
    "\n",
    "    print(\"Download, extração e renomeação concluídos com sucesso.\")\n",
    "else:\n",
    "    print(f\"Erro ao baixar o arquivo. Código de status: {response.status_code}\")"
   ]
  },
  {
   "cell_type": "markdown",
   "id": "eb8dff18",
   "metadata": {},
   "source": [
    "# Download dicionário de Motivos"
   ]
  },
  {
   "cell_type": "code",
   "execution_count": null,
   "id": "ad9aebb2",
   "metadata": {},
   "outputs": [],
   "source": [
    "url = \"https://dadosabertos.rfb.gov.br/CNPJ/motivos.zip\"\n",
    "dest_folder = r\"C:\\Users\\mcaceres\\OneDrive - Brookfield\\0. Brookfield - Data Analytics\\4. BD\\1. Input\\Receita Federal\"  # Pasta de destino para salvar o arquivo\n",
    "new_filename = \"dic_motivos.csv\"\n",
    "\n",
    "# Verifica se o arquivo existe e o exclui\n",
    "existing_file_path = os.path.join(dest_folder, new_filename)\n",
    "if os.path.isfile(existing_file_path):\n",
    "    os.remove(existing_file_path)\n",
    "\n",
    "# Realiza o download do arquivo\n",
    "response = requests.get(url)\n",
    "\n",
    "if response.status_code == 200:\n",
    "    # Extrai o conteúdo do arquivo ZIP\n",
    "    with zipfile.ZipFile(BytesIO(response.content), 'r') as zip_ref:\n",
    "        zip_ref.extractall(dest_folder)\n",
    "\n",
    "    # Encontra o primeiro arquivo CSV extraído e renomeia\n",
    "    extracted_files = os.listdir(dest_folder)\n",
    "    for file_name in extracted_files:\n",
    "        if file_name.endswith(\".MOTICSV\"):\n",
    "            old_path = os.path.join(dest_folder, file_name)\n",
    "            new_path = os.path.join(dest_folder, new_filename)\n",
    "            os.rename(old_path, new_path)\n",
    "            break  # Assume que há apenas um arquivo CSV para renomear\n",
    "\n",
    "    print(\"Download, extração e renomeação concluídos com sucesso.\")\n",
    "else:\n",
    "    print(f\"Erro ao baixar o arquivo. Código de status: {response.status_code}\")"
   ]
  },
  {
   "cell_type": "markdown",
   "id": "c227fd22",
   "metadata": {},
   "source": [
    "# Download dicionário de Municípios"
   ]
  },
  {
   "cell_type": "code",
   "execution_count": null,
   "id": "9ae19353",
   "metadata": {},
   "outputs": [],
   "source": [
    "url = \"https://dadosabertos.rfb.gov.br/CNPJ/Municipios.zip\"\n",
    "dest_folder = r\"C:\\Users\\mcaceres\\OneDrive - Brookfield\\0. Brookfield - Data Analytics\\4. BD\\1. Input\\Receita Federal\"  # Pasta de destino para salvar o arquivo\n",
    "new_filename = \"dic_municipios.csv\"\n",
    "\n",
    "# Verifica se o arquivo existe e o exclui\n",
    "existing_file_path = os.path.join(dest_folder, new_filename)\n",
    "if os.path.isfile(existing_file_path):\n",
    "    os.remove(existing_file_path)\n",
    "\n",
    "# Realiza o download do arquivo\n",
    "response = requests.get(url)\n",
    "\n",
    "if response.status_code == 200:\n",
    "    # Extrai o conteúdo do arquivo ZIP\n",
    "    with zipfile.ZipFile(BytesIO(response.content), 'r') as zip_ref:\n",
    "        zip_ref.extractall(dest_folder)\n",
    "\n",
    "    # Encontra o primeiro arquivo CSV extraído e renomeia\n",
    "    extracted_files = os.listdir(dest_folder)\n",
    "    for file_name in extracted_files:\n",
    "        if file_name.endswith(\".MUNICCSV\"):\n",
    "            old_path = os.path.join(dest_folder, file_name)\n",
    "            new_path = os.path.join(dest_folder, new_filename)\n",
    "            os.rename(old_path, new_path)\n",
    "            break  # Assume que há apenas um arquivo CSV para renomear\n",
    "\n",
    "    print(\"Download, extração e renomeação concluídos com sucesso.\")\n",
    "else:\n",
    "    print(f\"Erro ao baixar o arquivo. Código de status: {response.status_code}\")"
   ]
  },
  {
   "cell_type": "markdown",
   "id": "1f8de2e9",
   "metadata": {},
   "source": [
    "# Download dicionário de Naturezas"
   ]
  },
  {
   "cell_type": "code",
   "execution_count": null,
   "id": "a0d504a7",
   "metadata": {},
   "outputs": [],
   "source": [
    "url = \"https://dadosabertos.rfb.gov.br/CNPJ/Naturezas.zip\"\n",
    "dest_folder = r\"C:\\Users\\mcaceres\\OneDrive - Brookfield\\0. Brookfield - Data Analytics\\4. BD\\1. Input\\Receita Federal\"  # Pasta de destino para salvar o arquivo\n",
    "new_filename = \"dic_naturezas.csv\"\n",
    "\n",
    "# Verifica se o arquivo existe e o exclui\n",
    "existing_file_path = os.path.join(dest_folder, new_filename)\n",
    "if os.path.isfile(existing_file_path):\n",
    "    os.remove(existing_file_path)\n",
    "\n",
    "# Realiza o download do arquivo\n",
    "response = requests.get(url)\n",
    "\n",
    "if response.status_code == 200:\n",
    "    # Extrai o conteúdo do arquivo ZIP\n",
    "    with zipfile.ZipFile(BytesIO(response.content), 'r') as zip_ref:\n",
    "        zip_ref.extractall(dest_folder)\n",
    "\n",
    "    # Encontra o primeiro arquivo CSV extraído e renomeia\n",
    "    extracted_files = os.listdir(dest_folder)\n",
    "    for file_name in extracted_files:\n",
    "        if file_name.endswith(\".NATJUCSV\"):\n",
    "            old_path = os.path.join(dest_folder, file_name)\n",
    "            new_path = os.path.join(dest_folder, new_filename)\n",
    "            os.rename(old_path, new_path)\n",
    "            break  # Assume que há apenas um arquivo CSV para renomear\n",
    "\n",
    "    print(\"Download, extração e renomeação concluídos com sucesso.\")\n",
    "else:\n",
    "    print(f\"Erro ao baixar o arquivo. Código de status: {response.status_code}\")"
   ]
  },
  {
   "cell_type": "markdown",
   "id": "709a33bb",
   "metadata": {},
   "source": [
    "# Download dicionário de Paises"
   ]
  },
  {
   "cell_type": "code",
   "execution_count": null,
   "id": "89a04f33",
   "metadata": {},
   "outputs": [],
   "source": [
    "url = \"https://dadosabertos.rfb.gov.br/CNPJ/Paises.zip\"\n",
    "dest_folder = r\"C:\\Users\\mcaceres\\OneDrive - Brookfield\\0. Brookfield - Data Analytics\\4. BD\\1. Input\\Receita Federal\"  # Pasta de destino para salvar o arquivo\n",
    "new_filename = \"dic_paises.csv\"\n",
    "\n",
    "# Verifica se o arquivo existe e o exclui\n",
    "existing_file_path = os.path.join(dest_folder, new_filename)\n",
    "if os.path.isfile(existing_file_path):\n",
    "    os.remove(existing_file_path)\n",
    "\n",
    "# Realiza o download do arquivo\n",
    "response = requests.get(url)\n",
    "\n",
    "if response.status_code == 200:\n",
    "    # Extrai o conteúdo do arquivo ZIP\n",
    "    with zipfile.ZipFile(BytesIO(response.content), 'r') as zip_ref:\n",
    "        zip_ref.extractall(dest_folder)\n",
    "\n",
    "    # Encontra o primeiro arquivo CSV extraído e renomeia\n",
    "    extracted_files = os.listdir(dest_folder)\n",
    "    for file_name in extracted_files:\n",
    "        if file_name.endswith(\".PAISCSV\"):\n",
    "            old_path = os.path.join(dest_folder, file_name)\n",
    "            new_path = os.path.join(dest_folder, new_filename)\n",
    "            os.rename(old_path, new_path)\n",
    "            break  # Assume que há apenas um arquivo CSV para renomear\n",
    "\n",
    "    print(\"Download, extração e renomeação concluídos com sucesso.\")\n",
    "else:\n",
    "    print(f\"Erro ao baixar o arquivo. Código de status: {response.status_code}\")"
   ]
  },
  {
   "cell_type": "markdown",
   "id": "2b0a0c52",
   "metadata": {},
   "source": [
    "# Download dicionário de Qualificações"
   ]
  },
  {
   "cell_type": "code",
   "execution_count": null,
   "id": "d57678da",
   "metadata": {},
   "outputs": [],
   "source": [
    "url = \"https://dadosabertos.rfb.gov.br/CNPJ/Qualificacoes.zip\"\n",
    "dest_folder = r\"C:\\Users\\mcaceres\\OneDrive - Brookfield\\0. Brookfield - Data Analytics\\4. BD\\1. Input\\Receita Federal\"  # Pasta de destino para salvar o arquivo\n",
    "new_filename = \"dic_qualificacoes.csv\"\n",
    "\n",
    "# Verifica se o arquivo existe e o exclui\n",
    "existing_file_path = os.path.join(dest_folder, new_filename)\n",
    "if os.path.isfile(existing_file_path):\n",
    "    os.remove(existing_file_path)\n",
    "\n",
    "# Realiza o download do arquivo\n",
    "response = requests.get(url)\n",
    "\n",
    "if response.status_code == 200:\n",
    "    # Extrai o conteúdo do arquivo ZIP\n",
    "    with zipfile.ZipFile(BytesIO(response.content), 'r') as zip_ref:\n",
    "        zip_ref.extractall(dest_folder)\n",
    "\n",
    "    # Encontra o primeiro arquivo CSV extraído e renomeia\n",
    "    extracted_files = os.listdir(dest_folder)\n",
    "    for file_name in extracted_files:\n",
    "        if file_name.endswith(\".QUALSCSV\"):\n",
    "            old_path = os.path.join(dest_folder, file_name)\n",
    "            new_path = os.path.join(dest_folder, new_filename)\n",
    "            os.rename(old_path, new_path)\n",
    "            break  # Assume que há apenas um arquivo CSV para renomear\n",
    "\n",
    "    print(\"Download, extração e renomeação concluídos com sucesso.\")\n",
    "else:\n",
    "    print(f\"Erro ao baixar o arquivo. Código de status: {response.status_code}\")"
   ]
  },
  {
   "cell_type": "markdown",
   "id": "4facb105",
   "metadata": {},
   "source": [
    "# Download dicionário de CNAES"
   ]
  },
  {
   "cell_type": "code",
   "execution_count": null,
   "id": "513a2980",
   "metadata": {},
   "outputs": [],
   "source": [
    "url = \"https://dadosabertos.rfb.gov.br/CNPJ/CNAES.zip\"\n",
    "dest_folder = r\"C:\\Users\\mcaceres\\OneDrive - Brookfield\\0. Brookfield - Data Analytics\\4. BD\\1. Input\\Receita Federal\"  # Pasta de destino para salvar o arquivo\n",
    "new_filename = \"dic_CNAE.csv\"\n",
    "\n",
    "# Verifica se o arquivo existe e o exclui\n",
    "existing_file_path = os.path.join(dest_folder, new_filename)\n",
    "if os.path.isfile(existing_file_path):\n",
    "    os.remove(existing_file_path)\n",
    "\n",
    "# Realiza o download do arquivo\n",
    "response = requests.get(url)\n",
    "\n",
    "if response.status_code == 200:\n",
    "    # Extrai o conteúdo do arquivo ZIP\n",
    "    with zipfile.ZipFile(BytesIO(response.content), 'r') as zip_ref:\n",
    "        zip_ref.extractall(dest_folder)\n",
    "\n",
    "    # Encontra o primeiro arquivo CSV extraído e renomeia\n",
    "    extracted_files = os.listdir(dest_folder)\n",
    "    for file_name in extracted_files:\n",
    "        if file_name.endswith(\".CNAECSV\"):\n",
    "            old_path = os.path.join(dest_folder, file_name)\n",
    "            new_path = os.path.join(dest_folder, new_filename)\n",
    "            os.rename(old_path, new_path)\n",
    "            break  # Assume que há apenas um arquivo CSV para renomear\n",
    "\n",
    "    print(\"Download, extração e renomeação concluídos com sucesso.\")\n",
    "else:\n",
    "    print(f\"Erro ao baixar o arquivo. Código de status: {response.status_code}\")"
   ]
  },
  {
   "cell_type": "code",
   "execution_count": null,
   "id": "e82ef226",
   "metadata": {},
   "outputs": [],
   "source": []
  },
  {
   "cell_type": "code",
   "execution_count": null,
   "id": "4b3451da",
   "metadata": {},
   "outputs": [],
   "source": []
  },
  {
   "cell_type": "code",
   "execution_count": null,
   "id": "692ddf4f",
   "metadata": {},
   "outputs": [],
   "source": []
  }
 ],
 "metadata": {
  "kernelspec": {
   "display_name": "Python 3 (ipykernel)",
   "language": "python",
   "name": "python3"
  },
  "language_info": {
   "codemirror_mode": {
    "name": "ipython",
    "version": 3
   },
   "file_extension": ".py",
   "mimetype": "text/x-python",
   "name": "python",
   "nbconvert_exporter": "python",
   "pygments_lexer": "ipython3",
   "version": "3.9.13"
  }
 },
 "nbformat": 4,
 "nbformat_minor": 5
}
